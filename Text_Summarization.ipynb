{
 "cells": [
  {
   "cell_type": "markdown",
   "id": "7fa417fc",
   "metadata": {},
   "source": [
    "Steps for text summarization\n",
    "- Text Cleaning\n",
    "- Sentence Tokenization\n",
    "- Word Tokenization\n",
    "- Word-frequency table\n",
    "- Summarization"
   ]
  },
  {
   "cell_type": "code",
   "execution_count": 38,
   "id": "3a57c8e5",
   "metadata": {},
   "outputs": [],
   "source": [
    "text = \"\"\"Our solicitor Umar was fantastic he was introduced to us 10 weeks into the process after quite a lot of delays and quickly got everything resolved. We were really impressed with how fast and responsive he was and I'd highly recommend him. Overall I think Muve is a good option with some very competitive pricing but unfortunately we did experience some delays at the beginning of the process which I think it has to do with the amount of cases they had due to the stamp duty holiday but once our solicitor was assigned things moved really quickly. That's the only reason why I wouldn't give them 5 starts overall and I'd highly recommend getting a solicitor assigned as soon as you start the process. Would not have made the stamp duty deadline without them!\n",
    "\n",
    "I was selling my existing property and purchasing a new one. It was all smooth sailing until the last few weeks where issues initiated by my buyers side, started to pop up out of nowhere. Umar and Ashleigh, really did everything they could to help me navigate these obstacles and were in constant contact. Keeping me updated and keeping the application on track. Completed on the final day of the stamp duty holiday and saved lots of £££. It was stressful at the end, but we made it.\n",
    "\n",
    "Thank you both so much!\"\"\""
   ]
  },
  {
   "cell_type": "code",
   "execution_count": 7,
   "id": "e79658bf",
   "metadata": {},
   "outputs": [
    {
     "name": "stdout",
     "output_type": "stream",
     "text": [
      "Requirement already satisfied: pandas in /Users/adamameen/opt/anaconda3/envs/FYP/lib/python3.7/site-packages (1.3.5)\n",
      "Requirement already satisfied: numpy>=1.17.3 in /Users/adamameen/opt/anaconda3/envs/FYP/lib/python3.7/site-packages (from pandas) (1.21.5)\n",
      "Requirement already satisfied: pytz>=2017.3 in /Users/adamameen/opt/anaconda3/envs/FYP/lib/python3.7/site-packages (from pandas) (2021.3)\n",
      "Requirement already satisfied: python-dateutil>=2.7.3 in /Users/adamameen/opt/anaconda3/envs/FYP/lib/python3.7/site-packages (from pandas) (2.8.2)\n",
      "Requirement already satisfied: six>=1.5 in /Users/adamameen/opt/anaconda3/envs/FYP/lib/python3.7/site-packages (from python-dateutil>=2.7.3->pandas) (1.16.0)\n",
      "Requirement already satisfied: nltk in /Users/adamameen/opt/anaconda3/envs/FYP/lib/python3.7/site-packages (3.7)\n",
      "Requirement already satisfied: regex>=2021.8.3 in /Users/adamameen/opt/anaconda3/envs/FYP/lib/python3.7/site-packages (from nltk) (2022.3.2)\n",
      "Requirement already satisfied: joblib in /Users/adamameen/opt/anaconda3/envs/FYP/lib/python3.7/site-packages (from nltk) (1.1.0)\n",
      "Requirement already satisfied: tqdm in /Users/adamameen/opt/anaconda3/envs/FYP/lib/python3.7/site-packages (from nltk) (4.63.0)\n",
      "Requirement already satisfied: click in /Users/adamameen/opt/anaconda3/envs/FYP/lib/python3.7/site-packages (from nltk) (8.0.4)\n",
      "Requirement already satisfied: importlib-metadata in /Users/adamameen/opt/anaconda3/envs/FYP/lib/python3.7/site-packages (from click->nltk) (4.11.2)\n",
      "Requirement already satisfied: zipp>=0.5 in /Users/adamameen/opt/anaconda3/envs/FYP/lib/python3.7/site-packages (from importlib-metadata->click->nltk) (3.7.0)\n",
      "Requirement already satisfied: typing-extensions>=3.6.4 in /Users/adamameen/opt/anaconda3/envs/FYP/lib/python3.7/site-packages (from importlib-metadata->click->nltk) (3.10.0.2)\n",
      "Requirement already satisfied: sklearn in /Users/adamameen/opt/anaconda3/envs/FYP/lib/python3.7/site-packages (0.0)\n",
      "Requirement already satisfied: scikit-learn in /Users/adamameen/opt/anaconda3/envs/FYP/lib/python3.7/site-packages (from sklearn) (1.0.2)\n",
      "Requirement already satisfied: joblib>=0.11 in /Users/adamameen/opt/anaconda3/envs/FYP/lib/python3.7/site-packages (from scikit-learn->sklearn) (1.1.0)\n",
      "Requirement already satisfied: threadpoolctl>=2.0.0 in /Users/adamameen/opt/anaconda3/envs/FYP/lib/python3.7/site-packages (from scikit-learn->sklearn) (3.1.0)\n",
      "Requirement already satisfied: numpy>=1.14.6 in /Users/adamameen/opt/anaconda3/envs/FYP/lib/python3.7/site-packages (from scikit-learn->sklearn) (1.21.5)\n",
      "Requirement already satisfied: scipy>=1.1.0 in /Users/adamameen/opt/anaconda3/envs/FYP/lib/python3.7/site-packages (from scikit-learn->sklearn) (1.7.3)\n",
      "Requirement already satisfied: networkx in /Users/adamameen/opt/anaconda3/envs/FYP/lib/python3.7/site-packages (2.6.3)\n",
      "Requirement already satisfied: spacy in /Users/adamameen/opt/anaconda3/envs/FYP/lib/python3.7/site-packages (3.2.4)\n",
      "Requirement already satisfied: blis<0.8.0,>=0.4.0 in /Users/adamameen/opt/anaconda3/envs/FYP/lib/python3.7/site-packages (from spacy) (0.7.7)\n",
      "Requirement already satisfied: srsly<3.0.0,>=2.4.1 in /Users/adamameen/opt/anaconda3/envs/FYP/lib/python3.7/site-packages (from spacy) (2.4.2)\n",
      "Requirement already satisfied: wasabi<1.1.0,>=0.8.1 in /Users/adamameen/opt/anaconda3/envs/FYP/lib/python3.7/site-packages (from spacy) (0.9.1)\n",
      "Requirement already satisfied: pathy>=0.3.5 in /Users/adamameen/opt/anaconda3/envs/FYP/lib/python3.7/site-packages (from spacy) (0.6.1)\n",
      "Requirement already satisfied: murmurhash<1.1.0,>=0.28.0 in /Users/adamameen/opt/anaconda3/envs/FYP/lib/python3.7/site-packages (from spacy) (1.0.6)\n",
      "Requirement already satisfied: tqdm<5.0.0,>=4.38.0 in /Users/adamameen/opt/anaconda3/envs/FYP/lib/python3.7/site-packages (from spacy) (4.63.0)\n",
      "Requirement already satisfied: typer<0.5.0,>=0.3.0 in /Users/adamameen/opt/anaconda3/envs/FYP/lib/python3.7/site-packages (from spacy) (0.4.1)\n",
      "Requirement already satisfied: spacy-loggers<2.0.0,>=1.0.0 in /Users/adamameen/opt/anaconda3/envs/FYP/lib/python3.7/site-packages (from spacy) (1.0.2)\n",
      "Requirement already satisfied: catalogue<2.1.0,>=2.0.6 in /Users/adamameen/opt/anaconda3/envs/FYP/lib/python3.7/site-packages (from spacy) (2.0.7)\n",
      "Requirement already satisfied: pydantic!=1.8,!=1.8.1,<1.9.0,>=1.7.4 in /Users/adamameen/opt/anaconda3/envs/FYP/lib/python3.7/site-packages (from spacy) (1.8.2)\n",
      "Requirement already satisfied: cymem<2.1.0,>=2.0.2 in /Users/adamameen/opt/anaconda3/envs/FYP/lib/python3.7/site-packages (from spacy) (2.0.6)\n",
      "Requirement already satisfied: typing-extensions<4.0.0.0,>=3.7.4 in /Users/adamameen/opt/anaconda3/envs/FYP/lib/python3.7/site-packages (from spacy) (3.10.0.2)\n",
      "Requirement already satisfied: numpy>=1.15.0 in /Users/adamameen/opt/anaconda3/envs/FYP/lib/python3.7/site-packages (from spacy) (1.21.5)\n",
      "Requirement already satisfied: setuptools in /Users/adamameen/opt/anaconda3/envs/FYP/lib/python3.7/site-packages (from spacy) (58.0.4)\n",
      "Requirement already satisfied: jinja2 in /Users/adamameen/opt/anaconda3/envs/FYP/lib/python3.7/site-packages (from spacy) (3.0.3)\n",
      "Requirement already satisfied: preshed<3.1.0,>=3.0.2 in /Users/adamameen/opt/anaconda3/envs/FYP/lib/python3.7/site-packages (from spacy) (3.0.6)\n",
      "Requirement already satisfied: langcodes<4.0.0,>=3.2.0 in /Users/adamameen/opt/anaconda3/envs/FYP/lib/python3.7/site-packages (from spacy) (3.3.0)\n",
      "Requirement already satisfied: spacy-legacy<3.1.0,>=3.0.8 in /Users/adamameen/opt/anaconda3/envs/FYP/lib/python3.7/site-packages (from spacy) (3.0.9)\n",
      "Requirement already satisfied: packaging>=20.0 in /Users/adamameen/opt/anaconda3/envs/FYP/lib/python3.7/site-packages (from spacy) (21.3)\n",
      "Requirement already satisfied: click<8.1.0 in /Users/adamameen/opt/anaconda3/envs/FYP/lib/python3.7/site-packages (from spacy) (8.0.4)\n",
      "Requirement already satisfied: thinc<8.1.0,>=8.0.12 in /Users/adamameen/opt/anaconda3/envs/FYP/lib/python3.7/site-packages (from spacy) (8.0.15)\n",
      "Requirement already satisfied: requests<3.0.0,>=2.13.0 in /Users/adamameen/opt/anaconda3/envs/FYP/lib/python3.7/site-packages (from spacy) (2.27.1)\n",
      "Requirement already satisfied: zipp>=0.5 in /Users/adamameen/opt/anaconda3/envs/FYP/lib/python3.7/site-packages (from catalogue<2.1.0,>=2.0.6->spacy) (3.7.0)\n",
      "Requirement already satisfied: importlib-metadata in /Users/adamameen/opt/anaconda3/envs/FYP/lib/python3.7/site-packages (from click<8.1.0->spacy) (4.11.2)\n",
      "Requirement already satisfied: pyparsing!=3.0.5,>=2.0.2 in /Users/adamameen/opt/anaconda3/envs/FYP/lib/python3.7/site-packages (from packaging>=20.0->spacy) (3.0.7)\n",
      "Requirement already satisfied: smart-open<6.0.0,>=5.0.0 in /Users/adamameen/opt/anaconda3/envs/FYP/lib/python3.7/site-packages (from pathy>=0.3.5->spacy) (5.2.1)\n",
      "Requirement already satisfied: certifi>=2017.4.17 in /Users/adamameen/opt/anaconda3/envs/FYP/lib/python3.7/site-packages (from requests<3.0.0,>=2.13.0->spacy) (2021.10.8)\n",
      "Requirement already satisfied: idna<4,>=2.5 in /Users/adamameen/opt/anaconda3/envs/FYP/lib/python3.7/site-packages (from requests<3.0.0,>=2.13.0->spacy) (3.3)\n",
      "Requirement already satisfied: charset-normalizer~=2.0.0 in /Users/adamameen/opt/anaconda3/envs/FYP/lib/python3.7/site-packages (from requests<3.0.0,>=2.13.0->spacy) (2.0.12)\n",
      "Requirement already satisfied: urllib3<1.27,>=1.21.1 in /Users/adamameen/opt/anaconda3/envs/FYP/lib/python3.7/site-packages (from requests<3.0.0,>=2.13.0->spacy) (1.26.8)\n",
      "Requirement already satisfied: MarkupSafe>=2.0 in /Users/adamameen/opt/anaconda3/envs/FYP/lib/python3.7/site-packages (from jinja2->spacy) (2.1.0)\n",
      "Collecting en-core-web-sm==3.2.0\n",
      "  Downloading https://github.com/explosion/spacy-models/releases/download/en_core_web_sm-3.2.0/en_core_web_sm-3.2.0-py3-none-any.whl (13.9 MB)\n",
      "\u001b[K     |████████████████████████████████| 13.9 MB 9.3 MB/s eta 0:00:01\n",
      "\u001b[?25hRequirement already satisfied: spacy<3.3.0,>=3.2.0 in /Users/adamameen/opt/anaconda3/envs/FYP/lib/python3.7/site-packages (from en-core-web-sm==3.2.0) (3.2.4)\n",
      "Requirement already satisfied: spacy-legacy<3.1.0,>=3.0.8 in /Users/adamameen/opt/anaconda3/envs/FYP/lib/python3.7/site-packages (from spacy<3.3.0,>=3.2.0->en-core-web-sm==3.2.0) (3.0.9)\n",
      "Requirement already satisfied: packaging>=20.0 in /Users/adamameen/opt/anaconda3/envs/FYP/lib/python3.7/site-packages (from spacy<3.3.0,>=3.2.0->en-core-web-sm==3.2.0) (21.3)\n",
      "Requirement already satisfied: langcodes<4.0.0,>=3.2.0 in /Users/adamameen/opt/anaconda3/envs/FYP/lib/python3.7/site-packages (from spacy<3.3.0,>=3.2.0->en-core-web-sm==3.2.0) (3.3.0)\n",
      "Requirement already satisfied: preshed<3.1.0,>=3.0.2 in /Users/adamameen/opt/anaconda3/envs/FYP/lib/python3.7/site-packages (from spacy<3.3.0,>=3.2.0->en-core-web-sm==3.2.0) (3.0.6)\n",
      "Requirement already satisfied: typing-extensions<4.0.0.0,>=3.7.4 in /Users/adamameen/opt/anaconda3/envs/FYP/lib/python3.7/site-packages (from spacy<3.3.0,>=3.2.0->en-core-web-sm==3.2.0) (3.10.0.2)\n",
      "Requirement already satisfied: pydantic!=1.8,!=1.8.1,<1.9.0,>=1.7.4 in /Users/adamameen/opt/anaconda3/envs/FYP/lib/python3.7/site-packages (from spacy<3.3.0,>=3.2.0->en-core-web-sm==3.2.0) (1.8.2)\n",
      "Requirement already satisfied: spacy-loggers<2.0.0,>=1.0.0 in /Users/adamameen/opt/anaconda3/envs/FYP/lib/python3.7/site-packages (from spacy<3.3.0,>=3.2.0->en-core-web-sm==3.2.0) (1.0.2)\n",
      "Requirement already satisfied: jinja2 in /Users/adamameen/opt/anaconda3/envs/FYP/lib/python3.7/site-packages (from spacy<3.3.0,>=3.2.0->en-core-web-sm==3.2.0) (3.0.3)\n",
      "Requirement already satisfied: setuptools in /Users/adamameen/opt/anaconda3/envs/FYP/lib/python3.7/site-packages (from spacy<3.3.0,>=3.2.0->en-core-web-sm==3.2.0) (58.0.4)\n",
      "Requirement already satisfied: srsly<3.0.0,>=2.4.1 in /Users/adamameen/opt/anaconda3/envs/FYP/lib/python3.7/site-packages (from spacy<3.3.0,>=3.2.0->en-core-web-sm==3.2.0) (2.4.2)\n",
      "Requirement already satisfied: numpy>=1.15.0 in /Users/adamameen/opt/anaconda3/envs/FYP/lib/python3.7/site-packages (from spacy<3.3.0,>=3.2.0->en-core-web-sm==3.2.0) (1.21.5)\n",
      "Requirement already satisfied: catalogue<2.1.0,>=2.0.6 in /Users/adamameen/opt/anaconda3/envs/FYP/lib/python3.7/site-packages (from spacy<3.3.0,>=3.2.0->en-core-web-sm==3.2.0) (2.0.7)\n",
      "Requirement already satisfied: typer<0.5.0,>=0.3.0 in /Users/adamameen/opt/anaconda3/envs/FYP/lib/python3.7/site-packages (from spacy<3.3.0,>=3.2.0->en-core-web-sm==3.2.0) (0.4.1)\n",
      "Requirement already satisfied: tqdm<5.0.0,>=4.38.0 in /Users/adamameen/opt/anaconda3/envs/FYP/lib/python3.7/site-packages (from spacy<3.3.0,>=3.2.0->en-core-web-sm==3.2.0) (4.63.0)\n",
      "Requirement already satisfied: wasabi<1.1.0,>=0.8.1 in /Users/adamameen/opt/anaconda3/envs/FYP/lib/python3.7/site-packages (from spacy<3.3.0,>=3.2.0->en-core-web-sm==3.2.0) (0.9.1)\n",
      "Requirement already satisfied: thinc<8.1.0,>=8.0.12 in /Users/adamameen/opt/anaconda3/envs/FYP/lib/python3.7/site-packages (from spacy<3.3.0,>=3.2.0->en-core-web-sm==3.2.0) (8.0.15)\n",
      "Requirement already satisfied: cymem<2.1.0,>=2.0.2 in /Users/adamameen/opt/anaconda3/envs/FYP/lib/python3.7/site-packages (from spacy<3.3.0,>=3.2.0->en-core-web-sm==3.2.0) (2.0.6)\n",
      "Requirement already satisfied: pathy>=0.3.5 in /Users/adamameen/opt/anaconda3/envs/FYP/lib/python3.7/site-packages (from spacy<3.3.0,>=3.2.0->en-core-web-sm==3.2.0) (0.6.1)\n",
      "Requirement already satisfied: murmurhash<1.1.0,>=0.28.0 in /Users/adamameen/opt/anaconda3/envs/FYP/lib/python3.7/site-packages (from spacy<3.3.0,>=3.2.0->en-core-web-sm==3.2.0) (1.0.6)\n",
      "Requirement already satisfied: click<8.1.0 in /Users/adamameen/opt/anaconda3/envs/FYP/lib/python3.7/site-packages (from spacy<3.3.0,>=3.2.0->en-core-web-sm==3.2.0) (8.0.4)\n",
      "Requirement already satisfied: blis<0.8.0,>=0.4.0 in /Users/adamameen/opt/anaconda3/envs/FYP/lib/python3.7/site-packages (from spacy<3.3.0,>=3.2.0->en-core-web-sm==3.2.0) (0.7.7)\n",
      "Requirement already satisfied: requests<3.0.0,>=2.13.0 in /Users/adamameen/opt/anaconda3/envs/FYP/lib/python3.7/site-packages (from spacy<3.3.0,>=3.2.0->en-core-web-sm==3.2.0) (2.27.1)\n",
      "Requirement already satisfied: zipp>=0.5 in /Users/adamameen/opt/anaconda3/envs/FYP/lib/python3.7/site-packages (from catalogue<2.1.0,>=2.0.6->spacy<3.3.0,>=3.2.0->en-core-web-sm==3.2.0) (3.7.0)\n"
     ]
    },
    {
     "name": "stdout",
     "output_type": "stream",
     "text": [
      "Requirement already satisfied: importlib-metadata in /Users/adamameen/opt/anaconda3/envs/FYP/lib/python3.7/site-packages (from click<8.1.0->spacy<3.3.0,>=3.2.0->en-core-web-sm==3.2.0) (4.11.2)\n",
      "Requirement already satisfied: pyparsing!=3.0.5,>=2.0.2 in /Users/adamameen/opt/anaconda3/envs/FYP/lib/python3.7/site-packages (from packaging>=20.0->spacy<3.3.0,>=3.2.0->en-core-web-sm==3.2.0) (3.0.7)\n",
      "Requirement already satisfied: smart-open<6.0.0,>=5.0.0 in /Users/adamameen/opt/anaconda3/envs/FYP/lib/python3.7/site-packages (from pathy>=0.3.5->spacy<3.3.0,>=3.2.0->en-core-web-sm==3.2.0) (5.2.1)\n",
      "Requirement already satisfied: idna<4,>=2.5 in /Users/adamameen/opt/anaconda3/envs/FYP/lib/python3.7/site-packages (from requests<3.0.0,>=2.13.0->spacy<3.3.0,>=3.2.0->en-core-web-sm==3.2.0) (3.3)\n",
      "Requirement already satisfied: charset-normalizer~=2.0.0 in /Users/adamameen/opt/anaconda3/envs/FYP/lib/python3.7/site-packages (from requests<3.0.0,>=2.13.0->spacy<3.3.0,>=3.2.0->en-core-web-sm==3.2.0) (2.0.12)\n",
      "Requirement already satisfied: certifi>=2017.4.17 in /Users/adamameen/opt/anaconda3/envs/FYP/lib/python3.7/site-packages (from requests<3.0.0,>=2.13.0->spacy<3.3.0,>=3.2.0->en-core-web-sm==3.2.0) (2021.10.8)\n",
      "Requirement already satisfied: urllib3<1.27,>=1.21.1 in /Users/adamameen/opt/anaconda3/envs/FYP/lib/python3.7/site-packages (from requests<3.0.0,>=2.13.0->spacy<3.3.0,>=3.2.0->en-core-web-sm==3.2.0) (1.26.8)\n",
      "Requirement already satisfied: MarkupSafe>=2.0 in /Users/adamameen/opt/anaconda3/envs/FYP/lib/python3.7/site-packages (from jinja2->spacy<3.3.0,>=3.2.0->en-core-web-sm==3.2.0) (2.1.0)\n",
      "Installing collected packages: en-core-web-sm\n",
      "Successfully installed en-core-web-sm-3.2.0\n",
      "\u001b[38;5;2m✔ Download and installation successful\u001b[0m\n",
      "You can now load the package via spacy.load('en_core_web_sm')\n"
     ]
    }
   ],
   "source": [
    "#needed libraries\n",
    "!pip install pandas \n",
    "!pip install nltk\n",
    "!pip install sklearn\n",
    "!pip install networkx\n",
    "!pip install -U spacy\n",
    "!python -m spacy download en_core_web_sm"
   ]
  },
  {
   "cell_type": "code",
   "execution_count": 39,
   "id": "7dcf2546",
   "metadata": {},
   "outputs": [],
   "source": [
    "import pandas as pd\n",
    "import re\n",
    "import nltk\n",
    "from nltk.tokenize import word_tokenize\n",
    "from nltk.corpus import stopwords\n",
    "#to measure the similarity between two sentences\n",
    "from nltk.cluster.util import cosine_distance\n",
    "\n",
    "#to creating similarity graphs and to manipulate them\n",
    "import numpy as np\n",
    "\n",
    "import spacy\n",
    "from spacy.lang.en.stop_words import STOP_WORDS\n",
    "from string import punctuation"
   ]
  },
  {
   "cell_type": "code",
   "execution_count": 40,
   "id": "11a300bd",
   "metadata": {},
   "outputs": [],
   "source": [
    "stopwords = list(STOP_WORDS)"
   ]
  },
  {
   "cell_type": "code",
   "execution_count": 41,
   "id": "78f0a8bb",
   "metadata": {},
   "outputs": [
    {
     "data": {
      "text/plain": [
       "['himself',\n",
       " 'ten',\n",
       " 'across',\n",
       " 'since',\n",
       " 'below',\n",
       " 'upon',\n",
       " 'behind',\n",
       " 'down',\n",
       " 'up',\n",
       " 'doing',\n",
       " 'against',\n",
       " 'whence',\n",
       " 'beside',\n",
       " 'yourselves',\n",
       " 'me',\n",
       " 'mine',\n",
       " 'become',\n",
       " 'a',\n",
       " 'that',\n",
       " 'seems',\n",
       " 'yet',\n",
       " 'bottom',\n",
       " 'something',\n",
       " 'hers',\n",
       " 'through',\n",
       " '’s',\n",
       " 'the',\n",
       " 'nor',\n",
       " 'whom',\n",
       " 'formerly',\n",
       " 'they',\n",
       " 'now',\n",
       " \"'m\",\n",
       " 'itself',\n",
       " 'n’t',\n",
       " 'and',\n",
       " 'ours',\n",
       " 'see',\n",
       " 'still',\n",
       " 'further',\n",
       " 'these',\n",
       " 'anyway',\n",
       " 'first',\n",
       " 'too',\n",
       " 'regarding',\n",
       " 'once',\n",
       " 'hereafter',\n",
       " 'hence',\n",
       " 'four',\n",
       " 'afterwards',\n",
       " '‘m',\n",
       " 'only',\n",
       " 'amongst',\n",
       " 'more',\n",
       " 'where',\n",
       " 'ever',\n",
       " 'from',\n",
       " 'elsewhere',\n",
       " 'any',\n",
       " 'their',\n",
       " 'thru',\n",
       " 'no',\n",
       " 'sixty',\n",
       " 'until',\n",
       " 'someone',\n",
       " '‘ve',\n",
       " 'but',\n",
       " '’d',\n",
       " 'whose',\n",
       " 'everywhere',\n",
       " 'move',\n",
       " 'because',\n",
       " 'many',\n",
       " 'would',\n",
       " \"n't\",\n",
       " 'whatever',\n",
       " 'again',\n",
       " 'hereupon',\n",
       " 'your',\n",
       " 'could',\n",
       " 'why',\n",
       " 'throughout',\n",
       " 'fifty',\n",
       " 'its',\n",
       " 'much',\n",
       " 'everything',\n",
       " 'via',\n",
       " 'forty',\n",
       " 'eight',\n",
       " 'n‘t',\n",
       " 'he',\n",
       " 'i',\n",
       " 'beforehand',\n",
       " 'eleven',\n",
       " 'latter',\n",
       " 'becoming',\n",
       " 'rather',\n",
       " 'least',\n",
       " 'were',\n",
       " 'is',\n",
       " 'around',\n",
       " 'whole',\n",
       " 'if',\n",
       " 'this',\n",
       " 'call',\n",
       " 'seem',\n",
       " 'most',\n",
       " 'to',\n",
       " 'never',\n",
       " 'serious',\n",
       " 'so',\n",
       " 'became',\n",
       " 'between',\n",
       " '’m',\n",
       " 'be',\n",
       " 'whereupon',\n",
       " 'what',\n",
       " 'often',\n",
       " 'you',\n",
       " 'per',\n",
       " 'over',\n",
       " 'whereas',\n",
       " 'does',\n",
       " 'three',\n",
       " 'everyone',\n",
       " 'very',\n",
       " 'please',\n",
       " 'both',\n",
       " 'do',\n",
       " 'have',\n",
       " 'noone',\n",
       " 'whereby',\n",
       " \"'re\",\n",
       " 'into',\n",
       " 'latterly',\n",
       " 'moreover',\n",
       " \"'ve\",\n",
       " 'show',\n",
       " 'cannot',\n",
       " 'might',\n",
       " 'are',\n",
       " 'other',\n",
       " 'being',\n",
       " 'did',\n",
       " 'meanwhile',\n",
       " 'somewhere',\n",
       " 'wherever',\n",
       " 'toward',\n",
       " 'some',\n",
       " 'third',\n",
       " 'those',\n",
       " 'within',\n",
       " 'onto',\n",
       " 'herself',\n",
       " 'get',\n",
       " 'put',\n",
       " 'made',\n",
       " '‘re',\n",
       " 'ca',\n",
       " 'twelve',\n",
       " 'perhaps',\n",
       " 'we',\n",
       " 'several',\n",
       " 'nevertheless',\n",
       " 'therefore',\n",
       " 'own',\n",
       " 'well',\n",
       " 'less',\n",
       " 'my',\n",
       " 'top',\n",
       " 'all',\n",
       " 'am',\n",
       " 'about',\n",
       " 'neither',\n",
       " 'us',\n",
       " 'such',\n",
       " 'anything',\n",
       " '’re',\n",
       " 'back',\n",
       " 'or',\n",
       " 'fifteen',\n",
       " 'can',\n",
       " 'though',\n",
       " 'give',\n",
       " 'herein',\n",
       " 'may',\n",
       " 'must',\n",
       " 'along',\n",
       " 'make',\n",
       " 'just',\n",
       " 'in',\n",
       " 'there',\n",
       " 'after',\n",
       " 'side',\n",
       " 'should',\n",
       " 'had',\n",
       " 'as',\n",
       " 'same',\n",
       " 'whether',\n",
       " 'him',\n",
       " 'really',\n",
       " 'towards',\n",
       " 'out',\n",
       " 'while',\n",
       " 'hundred',\n",
       " 'few',\n",
       " 'them',\n",
       " 'done',\n",
       " 'nobody',\n",
       " 'empty',\n",
       " 'next',\n",
       " 'one',\n",
       " 'thereafter',\n",
       " 'without',\n",
       " 'name',\n",
       " 'been',\n",
       " 'will',\n",
       " 'already',\n",
       " 'six',\n",
       " 'therein',\n",
       " 'before',\n",
       " 'former',\n",
       " 'myself',\n",
       " 'enough',\n",
       " 'whither',\n",
       " 'sometime',\n",
       " 'go',\n",
       " 'his',\n",
       " 'by',\n",
       " \"'d\",\n",
       " '’ll',\n",
       " 'how',\n",
       " 'her',\n",
       " 'it',\n",
       " 'here',\n",
       " 'which',\n",
       " 'every',\n",
       " 'alone',\n",
       " 'last',\n",
       " \"'ll\",\n",
       " 'above',\n",
       " 'thereupon',\n",
       " 'anyone',\n",
       " 'somehow',\n",
       " 'indeed',\n",
       " 'twenty',\n",
       " 'for',\n",
       " 'keep',\n",
       " '’ve',\n",
       " 'various',\n",
       " 'ourselves',\n",
       " 'namely',\n",
       " 'five',\n",
       " 'nine',\n",
       " 'then',\n",
       " 'also',\n",
       " 'another',\n",
       " 'part',\n",
       " 'on',\n",
       " 'of',\n",
       " 'take',\n",
       " 'however',\n",
       " 'two',\n",
       " 'always',\n",
       " 'beyond',\n",
       " 'becomes',\n",
       " 'she',\n",
       " 'an',\n",
       " 'whereafter',\n",
       " 'not',\n",
       " 'who',\n",
       " 'almost',\n",
       " 'when',\n",
       " 'unless',\n",
       " \"'s\",\n",
       " 'whenever',\n",
       " 'our',\n",
       " 'thereby',\n",
       " 'under',\n",
       " '‘d',\n",
       " 'used',\n",
       " 'besides',\n",
       " 'full',\n",
       " 'with',\n",
       " 'thus',\n",
       " 'either',\n",
       " 'otherwise',\n",
       " 'anyhow',\n",
       " 'although',\n",
       " 'sometimes',\n",
       " 'amount',\n",
       " 'others',\n",
       " '‘ll',\n",
       " 'nothing',\n",
       " 'at',\n",
       " 'hereby',\n",
       " 'nowhere',\n",
       " 'anywhere',\n",
       " 'none',\n",
       " 'has',\n",
       " 'mostly',\n",
       " 'using',\n",
       " '‘s',\n",
       " 'else',\n",
       " 'quite',\n",
       " 'each',\n",
       " 'due',\n",
       " 're',\n",
       " 'seeming',\n",
       " 'front',\n",
       " 'seemed',\n",
       " 'together',\n",
       " 'wherein',\n",
       " 'yourself',\n",
       " 'themselves',\n",
       " 'off',\n",
       " 'during',\n",
       " 'thence',\n",
       " 'was',\n",
       " 'yours',\n",
       " 'whoever',\n",
       " 'among',\n",
       " 'except',\n",
       " 'even',\n",
       " 'say',\n",
       " 'than']"
      ]
     },
     "execution_count": 41,
     "metadata": {},
     "output_type": "execute_result"
    }
   ],
   "source": [
    "stopwords"
   ]
  },
  {
   "cell_type": "code",
   "execution_count": 42,
   "id": "e5e5561d",
   "metadata": {},
   "outputs": [],
   "source": [
    "nlp = spacy.load('en_core_web_sm')"
   ]
  },
  {
   "cell_type": "code",
   "execution_count": 43,
   "id": "df4b8e74",
   "metadata": {},
   "outputs": [],
   "source": [
    "doc = nlp(text)"
   ]
  },
  {
   "cell_type": "code",
   "execution_count": 44,
   "id": "498a31c2",
   "metadata": {},
   "outputs": [
    {
     "name": "stdout",
     "output_type": "stream",
     "text": [
      "['Our', 'solicitor', 'Umar', 'was', 'fantastic', 'he', 'was', 'introduced', 'to', 'us', '10', 'weeks', 'into', 'the', 'process', 'after', 'quite', 'a', 'lot', 'of', 'delays', 'and', 'quickly', 'got', 'everything', 'resolved', '.', 'We', 'were', 'really', 'impressed', 'with', 'how', 'fast', 'and', 'responsive', 'he', 'was', 'and', 'I', \"'d\", 'highly', 'recommend', 'him', '.', 'Overall', 'I', 'think', 'Muve', 'is', 'a', 'good', 'option', 'with', 'some', 'very', 'competitive', 'pricing', 'but', 'unfortunately', 'we', 'did', 'experience', 'some', 'delays', 'at', 'the', 'beginning', 'of', 'the', 'process', 'which', 'I', 'think', 'it', 'has', 'to', 'do', 'with', 'the', 'amount', 'of', 'cases', 'they', 'had', 'due', 'to', 'the', 'stamp', 'duty', 'holiday', 'but', 'once', 'our', 'solicitor', 'was', 'assigned', 'things', 'moved', 'really', 'quickly', '.', 'That', \"'s\", 'the', 'only', 'reason', 'why', 'I', 'would', \"n't\", 'give', 'them', '5', 'starts', 'overall', 'and', 'I', \"'d\", 'highly', 'recommend', 'getting', 'a', 'solicitor', 'assigned', 'as', 'soon', 'as', 'you', 'start', 'the', 'process', '.', 'Would', 'not', 'have', 'made', 'the', 'stamp', 'duty', 'deadline', 'without', 'them', '!', '\\n\\n', 'I', 'was', 'selling', 'my', 'existing', 'property', 'and', 'purchasing', 'a', 'new', 'one', '.', 'It', 'was', 'all', 'smooth', 'sailing', 'until', 'the', 'last', 'few', 'weeks', 'where', 'issues', 'initiated', 'by', 'my', 'buyers', 'side', ',', 'started', 'to', 'pop', 'up', 'out', 'of', 'nowhere', '.', 'Umar', 'and', 'Ashleigh', ',', 'really', 'did', 'everything', 'they', 'could', 'to', 'help', 'me', 'navigate', 'these', 'obstacles', 'and', 'were', 'in', 'constant', 'contact', '.', 'Keeping', 'me', 'updated', 'and', 'keeping', 'the', 'application', 'on', 'track', '.', 'Completed', 'on', 'the', 'final', 'day', 'of', 'the', 'stamp', 'duty', 'holiday', 'and', 'saved', 'lots', 'of', '£', '£', '£', '.', 'It', 'was', 'stressful', 'at', 'the', 'end', ',', 'but', 'we', 'made', 'it', '.', '\\n\\n', 'Thank', 'you', 'both', 'so', 'much', '!']\n"
     ]
    }
   ],
   "source": [
    "tokens = [token.text for token in doc]\n",
    "print(tokens)"
   ]
  },
  {
   "cell_type": "code",
   "execution_count": 49,
   "id": "3613f733",
   "metadata": {},
   "outputs": [
    {
     "data": {
      "text/plain": [
       "'!\"#$%&\\'()*+,-./:;<=>?@[\\\\]^_`{|}~\\n\\n\\n\\n'"
      ]
     },
     "execution_count": 49,
     "metadata": {},
     "output_type": "execute_result"
    }
   ],
   "source": [
    "#remove stop words and punctuations\n",
    "punctuation = punctuation + '\\n'\n",
    "punctuation"
   ]
  },
  {
   "cell_type": "code",
   "execution_count": 50,
   "id": "c5a11244",
   "metadata": {},
   "outputs": [],
   "source": [
    "word_frequencies = {}\n",
    "for word in doc:\n",
    "    if word.text.lower() not in stopwords:\n",
    "        if word.text.lower() not in punctuation:\n",
    "            if word.text not in word_frequencies.keys():\n",
    "                word_frequencies[word.text] = 1\n",
    "            else:\n",
    "                word_frequencies[word.text] += 1"
   ]
  },
  {
   "cell_type": "code",
   "execution_count": 51,
   "id": "00d2f1e8",
   "metadata": {},
   "outputs": [
    {
     "name": "stdout",
     "output_type": "stream",
     "text": [
      "{'solicitor': 3, 'Umar': 2, 'fantastic': 1, 'introduced': 1, '10': 1, 'weeks': 2, 'process': 3, 'lot': 1, 'delays': 2, 'quickly': 2, 'got': 1, 'resolved': 1, 'impressed': 1, 'fast': 1, 'responsive': 1, 'highly': 2, 'recommend': 2, 'Overall': 1, 'think': 2, 'Muve': 1, 'good': 1, 'option': 1, 'competitive': 1, 'pricing': 1, 'unfortunately': 1, 'experience': 1, 'beginning': 1, 'cases': 1, 'stamp': 3, 'duty': 3, 'holiday': 2, 'assigned': 2, 'things': 1, 'moved': 1, 'reason': 1, '5': 1, 'starts': 1, 'overall': 1, 'getting': 1, 'soon': 1, 'start': 1, 'deadline': 1, 'selling': 1, 'existing': 1, 'property': 1, 'purchasing': 1, 'new': 1, 'smooth': 1, 'sailing': 1, 'issues': 1, 'initiated': 1, 'buyers': 1, 'started': 1, 'pop': 1, 'Ashleigh': 1, 'help': 1, 'navigate': 1, 'obstacles': 1, 'constant': 1, 'contact': 1, 'Keeping': 1, 'updated': 1, 'keeping': 1, 'application': 1, 'track': 1, 'Completed': 1, 'final': 1, 'day': 1, 'saved': 1, 'lots': 1, '£': 3, 'stressful': 1, 'end': 1, 'Thank': 1}\n"
     ]
    }
   ],
   "source": [
    "print(word_frequencies)"
   ]
  },
  {
   "cell_type": "code",
   "execution_count": 52,
   "id": "5cb3a88e",
   "metadata": {},
   "outputs": [],
   "source": [
    "max_frequency = max(word_frequencies.values())"
   ]
  },
  {
   "cell_type": "code",
   "execution_count": 53,
   "id": "41008622",
   "metadata": {},
   "outputs": [
    {
     "data": {
      "text/plain": [
       "3"
      ]
     },
     "execution_count": 53,
     "metadata": {},
     "output_type": "execute_result"
    }
   ],
   "source": [
    "max_frequency"
   ]
  },
  {
   "cell_type": "code",
   "execution_count": 54,
   "id": "ef7e70ed",
   "metadata": {},
   "outputs": [],
   "source": [
    "for word in word_frequencies.keys():\n",
    "    word_frequencies[word] = word_frequencies[word]/max_frequency"
   ]
  },
  {
   "cell_type": "code",
   "execution_count": 55,
   "id": "7f42eb93",
   "metadata": {},
   "outputs": [
    {
     "name": "stdout",
     "output_type": "stream",
     "text": [
      "{'solicitor': 1.0, 'Umar': 0.6666666666666666, 'fantastic': 0.3333333333333333, 'introduced': 0.3333333333333333, '10': 0.3333333333333333, 'weeks': 0.6666666666666666, 'process': 1.0, 'lot': 0.3333333333333333, 'delays': 0.6666666666666666, 'quickly': 0.6666666666666666, 'got': 0.3333333333333333, 'resolved': 0.3333333333333333, 'impressed': 0.3333333333333333, 'fast': 0.3333333333333333, 'responsive': 0.3333333333333333, 'highly': 0.6666666666666666, 'recommend': 0.6666666666666666, 'Overall': 0.3333333333333333, 'think': 0.6666666666666666, 'Muve': 0.3333333333333333, 'good': 0.3333333333333333, 'option': 0.3333333333333333, 'competitive': 0.3333333333333333, 'pricing': 0.3333333333333333, 'unfortunately': 0.3333333333333333, 'experience': 0.3333333333333333, 'beginning': 0.3333333333333333, 'cases': 0.3333333333333333, 'stamp': 1.0, 'duty': 1.0, 'holiday': 0.6666666666666666, 'assigned': 0.6666666666666666, 'things': 0.3333333333333333, 'moved': 0.3333333333333333, 'reason': 0.3333333333333333, '5': 0.3333333333333333, 'starts': 0.3333333333333333, 'overall': 0.3333333333333333, 'getting': 0.3333333333333333, 'soon': 0.3333333333333333, 'start': 0.3333333333333333, 'deadline': 0.3333333333333333, 'selling': 0.3333333333333333, 'existing': 0.3333333333333333, 'property': 0.3333333333333333, 'purchasing': 0.3333333333333333, 'new': 0.3333333333333333, 'smooth': 0.3333333333333333, 'sailing': 0.3333333333333333, 'issues': 0.3333333333333333, 'initiated': 0.3333333333333333, 'buyers': 0.3333333333333333, 'started': 0.3333333333333333, 'pop': 0.3333333333333333, 'Ashleigh': 0.3333333333333333, 'help': 0.3333333333333333, 'navigate': 0.3333333333333333, 'obstacles': 0.3333333333333333, 'constant': 0.3333333333333333, 'contact': 0.3333333333333333, 'Keeping': 0.3333333333333333, 'updated': 0.3333333333333333, 'keeping': 0.3333333333333333, 'application': 0.3333333333333333, 'track': 0.3333333333333333, 'Completed': 0.3333333333333333, 'final': 0.3333333333333333, 'day': 0.3333333333333333, 'saved': 0.3333333333333333, 'lots': 0.3333333333333333, '£': 1.0, 'stressful': 0.3333333333333333, 'end': 0.3333333333333333, 'Thank': 0.3333333333333333}\n"
     ]
    }
   ],
   "source": [
    "print(word_frequencies)"
   ]
  },
  {
   "cell_type": "code",
   "execution_count": 56,
   "id": "2ac57af4",
   "metadata": {},
   "outputs": [
    {
     "name": "stdout",
     "output_type": "stream",
     "text": [
      "[Our solicitor Umar was fantastic he was introduced to us 10 weeks into the process after quite a lot of delays and quickly got everything resolved., We were really impressed with how fast and responsive he was and I'd highly recommend him., Overall I think Muve is a good option with some very competitive pricing but unfortunately we did experience some delays at the beginning of the process which I think it has to do with the amount of cases they had due to the stamp duty holiday but once our solicitor was assigned things moved really quickly., That's the only reason why I wouldn't give them 5 starts overall, and I'd highly recommend getting a solicitor assigned as soon as you start the process., Would not have made the stamp duty deadline without them!, \n",
      "\n",
      "I was selling my existing property and purchasing a new one., It was all smooth sailing until the last few weeks where issues initiated by my buyers side, started to pop up out of nowhere., Umar and Ashleigh, really did everything they could to help me navigate these obstacles and were in constant contact., Keeping me updated and keeping the application on track., Completed on the final day of the stamp duty holiday and saved lots of £££., It was stressful at the end, but we made it., \n",
      "\n",
      "Thank you both so much!]\n"
     ]
    }
   ],
   "source": [
    "sentence_tokens = [sent for sent in doc.sents]\n",
    "print(sentence_tokens)"
   ]
  },
  {
   "cell_type": "code",
   "execution_count": 57,
   "id": "fef15852",
   "metadata": {},
   "outputs": [],
   "source": [
    "sentence_scores = {}\n",
    "for sent in sentence_tokens:\n",
    "    for word in sent:\n",
    "        if word.text.lower() in word_frequencies.keys():\n",
    "            if sent not in sentence_scores.keys():\n",
    "                sentence_scores[sent] = word_frequencies[word.text.lower()]\n",
    "            else:\n",
    "                sentence_scores[sent] += word_frequencies[word.text.lower()]"
   ]
  },
  {
   "cell_type": "code",
   "execution_count": 58,
   "id": "3de7a318",
   "metadata": {},
   "outputs": [
    {
     "data": {
      "text/plain": [
       "{Our solicitor Umar was fantastic he was introduced to us 10 weeks into the process after quite a lot of delays and quickly got everything resolved.: 6.0,\n",
       " We were really impressed with how fast and responsive he was and I'd highly recommend him.: 2.333333333333333,\n",
       " Overall I think Muve is a good option with some very competitive pricing but unfortunately we did experience some delays at the beginning of the process which I think it has to do with the amount of cases they had due to the stamp duty holiday but once our solicitor was assigned things moved really quickly.: 11.666666666666666,\n",
       " That's the only reason why I wouldn't give them 5 starts overall: 1.3333333333333333,\n",
       " and I'd highly recommend getting a solicitor assigned as soon as you start the process.: 5.0,\n",
       " Would not have made the stamp duty deadline without them!: 2.3333333333333335,\n",
       " \n",
       " \n",
       " I was selling my existing property and purchasing a new one.: 1.6666666666666665,\n",
       " It was all smooth sailing until the last few weeks where issues initiated by my buyers side, started to pop up out of nowhere.: 3.0,\n",
       " Umar and Ashleigh, really did everything they could to help me navigate these obstacles and were in constant contact.: 1.6666666666666665,\n",
       " Keeping me updated and keeping the application on track.: 1.6666666666666665,\n",
       " Completed on the final day of the stamp duty holiday and saved lots of £££.: 7.0,\n",
       " It was stressful at the end, but we made it.: 0.6666666666666666}"
      ]
     },
     "execution_count": 58,
     "metadata": {},
     "output_type": "execute_result"
    }
   ],
   "source": [
    "sentence_scores"
   ]
  },
  {
   "cell_type": "code",
   "execution_count": 59,
   "id": "9ae33381",
   "metadata": {},
   "outputs": [],
   "source": [
    "from heapq import nlargest"
   ]
  },
  {
   "cell_type": "code",
   "execution_count": 60,
   "id": "c1703d81",
   "metadata": {},
   "outputs": [
    {
     "data": {
      "text/plain": [
       "3"
      ]
     },
     "execution_count": 60,
     "metadata": {},
     "output_type": "execute_result"
    }
   ],
   "source": [
    "select_length = int(len(sentence_tokens)*0.3)\n",
    "select_length"
   ]
  },
  {
   "cell_type": "code",
   "execution_count": 61,
   "id": "f8223db0",
   "metadata": {},
   "outputs": [
    {
     "data": {
      "text/plain": [
       "[Overall I think Muve is a good option with some very competitive pricing but unfortunately we did experience some delays at the beginning of the process which I think it has to do with the amount of cases they had due to the stamp duty holiday but once our solicitor was assigned things moved really quickly.,\n",
       " Completed on the final day of the stamp duty holiday and saved lots of £££.,\n",
       " Our solicitor Umar was fantastic he was introduced to us 10 weeks into the process after quite a lot of delays and quickly got everything resolved.]"
      ]
     },
     "execution_count": 61,
     "metadata": {},
     "output_type": "execute_result"
    }
   ],
   "source": [
    "summary = nlargest(select_length,sentence_scores,key=sentence_scores.get)\n",
    "summary"
   ]
  },
  {
   "cell_type": "code",
   "execution_count": 62,
   "id": "80c9f030",
   "metadata": {},
   "outputs": [
    {
     "data": {
      "text/plain": [
       "['Overall I think Muve is a good option with some very competitive pricing but unfortunately we did experience some delays at the beginning of the process which I think it has to do with the amount of cases they had due to the stamp duty holiday but once our solicitor was assigned things moved really quickly.',\n",
       " 'Completed on the final day of the stamp duty holiday and saved lots of £££.',\n",
       " 'Our solicitor Umar was fantastic he was introduced to us 10 weeks into the process after quite a lot of delays and quickly got everything resolved.']"
      ]
     },
     "execution_count": 62,
     "metadata": {},
     "output_type": "execute_result"
    }
   ],
   "source": [
    "final_summary = [word.text for word in summary]\n",
    "final_summary"
   ]
  },
  {
   "cell_type": "code",
   "execution_count": 63,
   "id": "13143131",
   "metadata": {},
   "outputs": [
    {
     "name": "stdout",
     "output_type": "stream",
     "text": [
      "Overall I think Muve is a good option with some very competitive pricing but unfortunately we did experience some delays at the beginning of the process which I think it has to do with the amount of cases they had due to the stamp duty holiday but once our solicitor was assigned things moved really quickly. Completed on the final day of the stamp duty holiday and saved lots of £££. Our solicitor Umar was fantastic he was introduced to us 10 weeks into the process after quite a lot of delays and quickly got everything resolved.\n"
     ]
    }
   ],
   "source": [
    "summary = ' '.join(final_summary)\n",
    "print(summary)"
   ]
  },
  {
   "cell_type": "code",
   "execution_count": 64,
   "id": "09e24640",
   "metadata": {},
   "outputs": [
    {
     "data": {
      "text/plain": [
       "1268"
      ]
     },
     "execution_count": 64,
     "metadata": {},
     "output_type": "execute_result"
    }
   ],
   "source": [
    "len(text)"
   ]
  },
  {
   "cell_type": "code",
   "execution_count": 65,
   "id": "8224e0b5",
   "metadata": {},
   "outputs": [
    {
     "data": {
      "text/plain": [
       "532"
      ]
     },
     "execution_count": 65,
     "metadata": {},
     "output_type": "execute_result"
    }
   ],
   "source": [
    "len(summary)"
   ]
  },
  {
   "cell_type": "code",
   "execution_count": null,
   "id": "bc4bbbab",
   "metadata": {},
   "outputs": [],
   "source": []
  }
 ],
 "metadata": {
  "kernelspec": {
   "display_name": "Python 3 (ipykernel)",
   "language": "python",
   "name": "python3"
  },
  "language_info": {
   "codemirror_mode": {
    "name": "ipython",
    "version": 3
   },
   "file_extension": ".py",
   "mimetype": "text/x-python",
   "name": "python",
   "nbconvert_exporter": "python",
   "pygments_lexer": "ipython3",
   "version": "3.7.11"
  }
 },
 "nbformat": 4,
 "nbformat_minor": 5
}
