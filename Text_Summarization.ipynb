{
 "cells": [
  {
   "cell_type": "markdown",
   "id": "7fa417fc",
   "metadata": {},
   "source": [
    "Steps for text summarization\n",
    "- Text Cleaning\n",
    "- Sentence Tokenization\n",
    "- Word Tokenization\n",
    "- Word-frequency table\n",
    "- Summarization"
   ]
  },
  {
   "cell_type": "code",
   "execution_count": 3,
   "id": "3a57c8e5",
   "metadata": {},
   "outputs": [],
   "source": [
    "text = \"\"\"Our solicitor Umar was fantastic he was introduced to us 10 weeks into the process after quite a lot of delays and quickly got everything resolved. We were really impressed with how fast and responsive he was and I'd highly recommend him. Overall I think Muve is a good option with some very competitive pricing but unfortunately we did experience some delays at the beginning of the process which I think it has to do with the amount of cases they had due to the stamp duty holiday but once our solicitor was assigned things moved really quickly. That's the only reason why I wouldn't give them 5 starts overall and I'd highly recommend getting a solicitor assigned as soon as you start the process. Would not have made the stamp duty deadline without them!\n",
    "\n",
    "I was selling my existing property and purchasing a new one. It was all smooth sailing until the last few weeks where issues initiated by my buyers side, started to pop up out of nowhere. Umar and Ashleigh, really did everything they could to help me navigate these obstacles and were in constant contact. Keeping me updated and keeping the application on track. Completed on the final day of the stamp duty holiday and saved lots of £££. It was stressful at the end, but we made it.\n",
    "\n",
    "Thank you both so much!\"\"\""
   ]
  },
  {
   "cell_type": "code",
   "execution_count": 2,
   "id": "e79658bf",
   "metadata": {},
   "outputs": [
    {
     "name": "stdout",
     "output_type": "stream",
     "text": [
      "Requirement already satisfied: spacy in /Users/adamameen/opt/anaconda3/envs/FYP/lib/python3.7/site-packages (3.2.4)\n",
      "Requirement already satisfied: numpy>=1.15.0 in /Users/adamameen/opt/anaconda3/envs/FYP/lib/python3.7/site-packages (from spacy) (1.21.5)\n",
      "Requirement already satisfied: tqdm<5.0.0,>=4.38.0 in /Users/adamameen/opt/anaconda3/envs/FYP/lib/python3.7/site-packages (from spacy) (4.63.0)\n",
      "Requirement already satisfied: spacy-loggers<2.0.0,>=1.0.0 in /Users/adamameen/opt/anaconda3/envs/FYP/lib/python3.7/site-packages (from spacy) (1.0.2)\n",
      "Requirement already satisfied: packaging>=20.0 in /Users/adamameen/opt/anaconda3/envs/FYP/lib/python3.7/site-packages (from spacy) (21.3)\n",
      "Requirement already satisfied: wasabi<1.1.0,>=0.8.1 in /Users/adamameen/opt/anaconda3/envs/FYP/lib/python3.7/site-packages (from spacy) (0.9.1)\n",
      "Requirement already satisfied: srsly<3.0.0,>=2.4.1 in /Users/adamameen/opt/anaconda3/envs/FYP/lib/python3.7/site-packages (from spacy) (2.4.2)\n",
      "Requirement already satisfied: thinc<8.1.0,>=8.0.12 in /Users/adamameen/opt/anaconda3/envs/FYP/lib/python3.7/site-packages (from spacy) (8.0.15)\n",
      "Requirement already satisfied: jinja2 in /Users/adamameen/opt/anaconda3/envs/FYP/lib/python3.7/site-packages (from spacy) (3.0.3)\n",
      "Requirement already satisfied: spacy-legacy<3.1.0,>=3.0.8 in /Users/adamameen/opt/anaconda3/envs/FYP/lib/python3.7/site-packages (from spacy) (3.0.9)\n",
      "Requirement already satisfied: typer<0.5.0,>=0.3.0 in /Users/adamameen/opt/anaconda3/envs/FYP/lib/python3.7/site-packages (from spacy) (0.4.1)\n",
      "Requirement already satisfied: blis<0.8.0,>=0.4.0 in /Users/adamameen/opt/anaconda3/envs/FYP/lib/python3.7/site-packages (from spacy) (0.7.7)\n",
      "Requirement already satisfied: pydantic!=1.8,!=1.8.1,<1.9.0,>=1.7.4 in /Users/adamameen/opt/anaconda3/envs/FYP/lib/python3.7/site-packages (from spacy) (1.8.2)\n",
      "Requirement already satisfied: preshed<3.1.0,>=3.0.2 in /Users/adamameen/opt/anaconda3/envs/FYP/lib/python3.7/site-packages (from spacy) (3.0.6)\n",
      "Requirement already satisfied: click<8.1.0 in /Users/adamameen/opt/anaconda3/envs/FYP/lib/python3.7/site-packages (from spacy) (8.0.4)\n",
      "Requirement already satisfied: catalogue<2.1.0,>=2.0.6 in /Users/adamameen/opt/anaconda3/envs/FYP/lib/python3.7/site-packages (from spacy) (2.0.7)\n",
      "Requirement already satisfied: langcodes<4.0.0,>=3.2.0 in /Users/adamameen/opt/anaconda3/envs/FYP/lib/python3.7/site-packages (from spacy) (3.3.0)\n",
      "Requirement already satisfied: typing-extensions<4.0.0.0,>=3.7.4 in /Users/adamameen/opt/anaconda3/envs/FYP/lib/python3.7/site-packages (from spacy) (3.10.0.2)\n",
      "Requirement already satisfied: setuptools in /Users/adamameen/opt/anaconda3/envs/FYP/lib/python3.7/site-packages (from spacy) (58.0.4)\n",
      "Requirement already satisfied: pathy>=0.3.5 in /Users/adamameen/opt/anaconda3/envs/FYP/lib/python3.7/site-packages (from spacy) (0.6.1)\n",
      "Requirement already satisfied: cymem<2.1.0,>=2.0.2 in /Users/adamameen/opt/anaconda3/envs/FYP/lib/python3.7/site-packages (from spacy) (2.0.6)\n",
      "Requirement already satisfied: murmurhash<1.1.0,>=0.28.0 in /Users/adamameen/opt/anaconda3/envs/FYP/lib/python3.7/site-packages (from spacy) (1.0.6)\n",
      "Requirement already satisfied: requests<3.0.0,>=2.13.0 in /Users/adamameen/opt/anaconda3/envs/FYP/lib/python3.7/site-packages (from spacy) (2.27.1)\n",
      "Requirement already satisfied: zipp>=0.5 in /Users/adamameen/opt/anaconda3/envs/FYP/lib/python3.7/site-packages (from catalogue<2.1.0,>=2.0.6->spacy) (3.7.0)\n",
      "Requirement already satisfied: importlib-metadata in /Users/adamameen/opt/anaconda3/envs/FYP/lib/python3.7/site-packages (from click<8.1.0->spacy) (4.11.2)\n",
      "Requirement already satisfied: pyparsing!=3.0.5,>=2.0.2 in /Users/adamameen/opt/anaconda3/envs/FYP/lib/python3.7/site-packages (from packaging>=20.0->spacy) (3.0.7)\n",
      "Requirement already satisfied: smart-open<6.0.0,>=5.0.0 in /Users/adamameen/opt/anaconda3/envs/FYP/lib/python3.7/site-packages (from pathy>=0.3.5->spacy) (5.2.1)\n",
      "Requirement already satisfied: charset-normalizer~=2.0.0 in /Users/adamameen/opt/anaconda3/envs/FYP/lib/python3.7/site-packages (from requests<3.0.0,>=2.13.0->spacy) (2.0.12)\n",
      "Requirement already satisfied: idna<4,>=2.5 in /Users/adamameen/opt/anaconda3/envs/FYP/lib/python3.7/site-packages (from requests<3.0.0,>=2.13.0->spacy) (3.3)\n",
      "Requirement already satisfied: urllib3<1.27,>=1.21.1 in /Users/adamameen/opt/anaconda3/envs/FYP/lib/python3.7/site-packages (from requests<3.0.0,>=2.13.0->spacy) (1.26.8)\n",
      "Requirement already satisfied: certifi>=2017.4.17 in /Users/adamameen/opt/anaconda3/envs/FYP/lib/python3.7/site-packages (from requests<3.0.0,>=2.13.0->spacy) (2021.10.8)\n",
      "Requirement already satisfied: MarkupSafe>=2.0 in /Users/adamameen/opt/anaconda3/envs/FYP/lib/python3.7/site-packages (from jinja2->spacy) (2.1.0)\n",
      "Collecting en-core-web-sm==3.2.0\n",
      "  Downloading https://github.com/explosion/spacy-models/releases/download/en_core_web_sm-3.2.0/en_core_web_sm-3.2.0-py3-none-any.whl (13.9 MB)\n",
      "\u001b[K     |████████████████████████████████| 13.9 MB 11.2 MB/s eta 0:00:01\n",
      "\u001b[?25hRequirement already satisfied: spacy<3.3.0,>=3.2.0 in /Users/adamameen/opt/anaconda3/envs/FYP/lib/python3.7/site-packages (from en-core-web-sm==3.2.0) (3.2.4)\n",
      "Requirement already satisfied: cymem<2.1.0,>=2.0.2 in /Users/adamameen/opt/anaconda3/envs/FYP/lib/python3.7/site-packages (from spacy<3.3.0,>=3.2.0->en-core-web-sm==3.2.0) (2.0.6)\n",
      "Requirement already satisfied: setuptools in /Users/adamameen/opt/anaconda3/envs/FYP/lib/python3.7/site-packages (from spacy<3.3.0,>=3.2.0->en-core-web-sm==3.2.0) (58.0.4)\n",
      "Requirement already satisfied: requests<3.0.0,>=2.13.0 in /Users/adamameen/opt/anaconda3/envs/FYP/lib/python3.7/site-packages (from spacy<3.3.0,>=3.2.0->en-core-web-sm==3.2.0) (2.27.1)\n",
      "Requirement already satisfied: srsly<3.0.0,>=2.4.1 in /Users/adamameen/opt/anaconda3/envs/FYP/lib/python3.7/site-packages (from spacy<3.3.0,>=3.2.0->en-core-web-sm==3.2.0) (2.4.2)\n",
      "Requirement already satisfied: langcodes<4.0.0,>=3.2.0 in /Users/adamameen/opt/anaconda3/envs/FYP/lib/python3.7/site-packages (from spacy<3.3.0,>=3.2.0->en-core-web-sm==3.2.0) (3.3.0)\n",
      "Requirement already satisfied: blis<0.8.0,>=0.4.0 in /Users/adamameen/opt/anaconda3/envs/FYP/lib/python3.7/site-packages (from spacy<3.3.0,>=3.2.0->en-core-web-sm==3.2.0) (0.7.7)\n",
      "Requirement already satisfied: spacy-loggers<2.0.0,>=1.0.0 in /Users/adamameen/opt/anaconda3/envs/FYP/lib/python3.7/site-packages (from spacy<3.3.0,>=3.2.0->en-core-web-sm==3.2.0) (1.0.2)\n",
      "Requirement already satisfied: pathy>=0.3.5 in /Users/adamameen/opt/anaconda3/envs/FYP/lib/python3.7/site-packages (from spacy<3.3.0,>=3.2.0->en-core-web-sm==3.2.0) (0.6.1)\n",
      "Requirement already satisfied: pydantic!=1.8,!=1.8.1,<1.9.0,>=1.7.4 in /Users/adamameen/opt/anaconda3/envs/FYP/lib/python3.7/site-packages (from spacy<3.3.0,>=3.2.0->en-core-web-sm==3.2.0) (1.8.2)\n",
      "Requirement already satisfied: catalogue<2.1.0,>=2.0.6 in /Users/adamameen/opt/anaconda3/envs/FYP/lib/python3.7/site-packages (from spacy<3.3.0,>=3.2.0->en-core-web-sm==3.2.0) (2.0.7)\n",
      "Requirement already satisfied: preshed<3.1.0,>=3.0.2 in /Users/adamameen/opt/anaconda3/envs/FYP/lib/python3.7/site-packages (from spacy<3.3.0,>=3.2.0->en-core-web-sm==3.2.0) (3.0.6)\n",
      "Requirement already satisfied: wasabi<1.1.0,>=0.8.1 in /Users/adamameen/opt/anaconda3/envs/FYP/lib/python3.7/site-packages (from spacy<3.3.0,>=3.2.0->en-core-web-sm==3.2.0) (0.9.1)\n",
      "Requirement already satisfied: packaging>=20.0 in /Users/adamameen/opt/anaconda3/envs/FYP/lib/python3.7/site-packages (from spacy<3.3.0,>=3.2.0->en-core-web-sm==3.2.0) (21.3)\n",
      "Requirement already satisfied: murmurhash<1.1.0,>=0.28.0 in /Users/adamameen/opt/anaconda3/envs/FYP/lib/python3.7/site-packages (from spacy<3.3.0,>=3.2.0->en-core-web-sm==3.2.0) (1.0.6)\n",
      "Requirement already satisfied: typer<0.5.0,>=0.3.0 in /Users/adamameen/opt/anaconda3/envs/FYP/lib/python3.7/site-packages (from spacy<3.3.0,>=3.2.0->en-core-web-sm==3.2.0) (0.4.1)\n",
      "Requirement already satisfied: tqdm<5.0.0,>=4.38.0 in /Users/adamameen/opt/anaconda3/envs/FYP/lib/python3.7/site-packages (from spacy<3.3.0,>=3.2.0->en-core-web-sm==3.2.0) (4.63.0)\n",
      "Requirement already satisfied: thinc<8.1.0,>=8.0.12 in /Users/adamameen/opt/anaconda3/envs/FYP/lib/python3.7/site-packages (from spacy<3.3.0,>=3.2.0->en-core-web-sm==3.2.0) (8.0.15)\n",
      "Requirement already satisfied: jinja2 in /Users/adamameen/opt/anaconda3/envs/FYP/lib/python3.7/site-packages (from spacy<3.3.0,>=3.2.0->en-core-web-sm==3.2.0) (3.0.3)\n",
      "Requirement already satisfied: spacy-legacy<3.1.0,>=3.0.8 in /Users/adamameen/opt/anaconda3/envs/FYP/lib/python3.7/site-packages (from spacy<3.3.0,>=3.2.0->en-core-web-sm==3.2.0) (3.0.9)\n",
      "Requirement already satisfied: numpy>=1.15.0 in /Users/adamameen/opt/anaconda3/envs/FYP/lib/python3.7/site-packages (from spacy<3.3.0,>=3.2.0->en-core-web-sm==3.2.0) (1.21.5)\n",
      "Requirement already satisfied: typing-extensions<4.0.0.0,>=3.7.4 in /Users/adamameen/opt/anaconda3/envs/FYP/lib/python3.7/site-packages (from spacy<3.3.0,>=3.2.0->en-core-web-sm==3.2.0) (3.10.0.2)\n",
      "Requirement already satisfied: click<8.1.0 in /Users/adamameen/opt/anaconda3/envs/FYP/lib/python3.7/site-packages (from spacy<3.3.0,>=3.2.0->en-core-web-sm==3.2.0) (8.0.4)\n",
      "Requirement already satisfied: zipp>=0.5 in /Users/adamameen/opt/anaconda3/envs/FYP/lib/python3.7/site-packages (from catalogue<2.1.0,>=2.0.6->spacy<3.3.0,>=3.2.0->en-core-web-sm==3.2.0) (3.7.0)\n",
      "Requirement already satisfied: importlib-metadata in /Users/adamameen/opt/anaconda3/envs/FYP/lib/python3.7/site-packages (from click<8.1.0->spacy<3.3.0,>=3.2.0->en-core-web-sm==3.2.0) (4.11.2)\n"
     ]
    },
    {
     "name": "stdout",
     "output_type": "stream",
     "text": [
      "Requirement already satisfied: pyparsing!=3.0.5,>=2.0.2 in /Users/adamameen/opt/anaconda3/envs/FYP/lib/python3.7/site-packages (from packaging>=20.0->spacy<3.3.0,>=3.2.0->en-core-web-sm==3.2.0) (3.0.7)\n",
      "Requirement already satisfied: smart-open<6.0.0,>=5.0.0 in /Users/adamameen/opt/anaconda3/envs/FYP/lib/python3.7/site-packages (from pathy>=0.3.5->spacy<3.3.0,>=3.2.0->en-core-web-sm==3.2.0) (5.2.1)\n",
      "Requirement already satisfied: urllib3<1.27,>=1.21.1 in /Users/adamameen/opt/anaconda3/envs/FYP/lib/python3.7/site-packages (from requests<3.0.0,>=2.13.0->spacy<3.3.0,>=3.2.0->en-core-web-sm==3.2.0) (1.26.8)\n",
      "Requirement already satisfied: idna<4,>=2.5 in /Users/adamameen/opt/anaconda3/envs/FYP/lib/python3.7/site-packages (from requests<3.0.0,>=2.13.0->spacy<3.3.0,>=3.2.0->en-core-web-sm==3.2.0) (3.3)\n",
      "Requirement already satisfied: certifi>=2017.4.17 in /Users/adamameen/opt/anaconda3/envs/FYP/lib/python3.7/site-packages (from requests<3.0.0,>=2.13.0->spacy<3.3.0,>=3.2.0->en-core-web-sm==3.2.0) (2021.10.8)\n",
      "Requirement already satisfied: charset-normalizer~=2.0.0 in /Users/adamameen/opt/anaconda3/envs/FYP/lib/python3.7/site-packages (from requests<3.0.0,>=2.13.0->spacy<3.3.0,>=3.2.0->en-core-web-sm==3.2.0) (2.0.12)\n",
      "Requirement already satisfied: MarkupSafe>=2.0 in /Users/adamameen/opt/anaconda3/envs/FYP/lib/python3.7/site-packages (from jinja2->spacy<3.3.0,>=3.2.0->en-core-web-sm==3.2.0) (2.1.0)\n",
      "\u001b[38;5;2m✔ Download and installation successful\u001b[0m\n",
      "You can now load the package via spacy.load('en_core_web_sm')\n"
     ]
    }
   ],
   "source": [
    "#needed libraries\n",
    "!pip install -U spacy\n",
    "!python -m spacy download en_core_web_sm"
   ]
  },
  {
   "cell_type": "code",
   "execution_count": 4,
   "id": "7dcf2546",
   "metadata": {},
   "outputs": [],
   "source": [
    "#for text summarization\n",
    "import spacy\n",
    "from spacy.lang.en.stop_words import STOP_WORDS\n",
    "from string import punctuation"
   ]
  },
  {
   "cell_type": "code",
   "execution_count": 5,
   "id": "11a300bd",
   "metadata": {},
   "outputs": [
    {
     "data": {
      "text/plain": [
       "['itself',\n",
       " 'elsewhere',\n",
       " 'he',\n",
       " 'whereafter',\n",
       " 'say',\n",
       " 'seeming',\n",
       " 'less',\n",
       " '’m',\n",
       " 'who',\n",
       " 'part',\n",
       " 'many',\n",
       " 'themselves',\n",
       " 'hundred',\n",
       " 'at',\n",
       " 'someone',\n",
       " 'last',\n",
       " 'thereupon',\n",
       " 'does',\n",
       " 'yourself',\n",
       " 'much',\n",
       " 'nine',\n",
       " 'bottom',\n",
       " 'in',\n",
       " 'would',\n",
       " 'sometime',\n",
       " 'their',\n",
       " 'move',\n",
       " 'are',\n",
       " 'above',\n",
       " \"'s\",\n",
       " 'where',\n",
       " 'all',\n",
       " 'out',\n",
       " 'am',\n",
       " 'before',\n",
       " 'same',\n",
       " 'yourselves',\n",
       " 'there',\n",
       " 'twelve',\n",
       " 'they',\n",
       " 'every',\n",
       " 'sixty',\n",
       " 'third',\n",
       " 'twenty',\n",
       " 'if',\n",
       " 'thus',\n",
       " 'for',\n",
       " 'make',\n",
       " 'during',\n",
       " 'becomes',\n",
       " 'within',\n",
       " 'latterly',\n",
       " 'mostly',\n",
       " 'us',\n",
       " 'perhaps',\n",
       " 'throughout',\n",
       " 'otherwise',\n",
       " 'cannot',\n",
       " 'among',\n",
       " 'the',\n",
       " \"'re\",\n",
       " 'nor',\n",
       " 'when',\n",
       " 'once',\n",
       " 'ever',\n",
       " '‘ve',\n",
       " 'something',\n",
       " '‘ll',\n",
       " 'fifteen',\n",
       " 'anywhere',\n",
       " 'without',\n",
       " 'several',\n",
       " 'into',\n",
       " 'whereupon',\n",
       " 'somewhere',\n",
       " 'some',\n",
       " 'even',\n",
       " '’s',\n",
       " 'neither',\n",
       " 'anything',\n",
       " 'ourselves',\n",
       " 'moreover',\n",
       " 'should',\n",
       " 'very',\n",
       " 'himself',\n",
       " 'already',\n",
       " 'of',\n",
       " 'down',\n",
       " 'afterwards',\n",
       " 'from',\n",
       " 'always',\n",
       " 'nothing',\n",
       " 'n’t',\n",
       " \"'m\",\n",
       " 'whom',\n",
       " 'keep',\n",
       " 'to',\n",
       " 'often',\n",
       " 'but',\n",
       " 'therefore',\n",
       " 'another',\n",
       " 'mine',\n",
       " 'its',\n",
       " 'although',\n",
       " 'not',\n",
       " 'yet',\n",
       " 'any',\n",
       " 'ca',\n",
       " 'however',\n",
       " 'four',\n",
       " 'namely',\n",
       " 'whereas',\n",
       " 'unless',\n",
       " 'myself',\n",
       " 'become',\n",
       " 'beyond',\n",
       " 'full',\n",
       " 'whole',\n",
       " 'now',\n",
       " 'on',\n",
       " 'other',\n",
       " 'three',\n",
       " 'almost',\n",
       " 'because',\n",
       " 'rather',\n",
       " 'wherein',\n",
       " 'made',\n",
       " 'regarding',\n",
       " 'had',\n",
       " 'yours',\n",
       " 'beforehand',\n",
       " 'name',\n",
       " 'sometimes',\n",
       " 'also',\n",
       " 'therein',\n",
       " 'due',\n",
       " 'whatever',\n",
       " 'formerly',\n",
       " 'do',\n",
       " 'just',\n",
       " 'be',\n",
       " 'might',\n",
       " 'go',\n",
       " 'meanwhile',\n",
       " 'herein',\n",
       " 'our',\n",
       " 'no',\n",
       " 'them',\n",
       " 'one',\n",
       " 'since',\n",
       " 'none',\n",
       " '‘re',\n",
       " 'please',\n",
       " 'front',\n",
       " 'thereby',\n",
       " '‘d',\n",
       " 'may',\n",
       " 'somehow',\n",
       " '’ll',\n",
       " 'each',\n",
       " 'under',\n",
       " 'about',\n",
       " 'whose',\n",
       " 'noone',\n",
       " 'call',\n",
       " 'or',\n",
       " 'while',\n",
       " 'everyone',\n",
       " 'she',\n",
       " 'seem',\n",
       " 'your',\n",
       " 'again',\n",
       " 'nowhere',\n",
       " 'becoming',\n",
       " 'well',\n",
       " 'been',\n",
       " \"'d\",\n",
       " 'were',\n",
       " 'put',\n",
       " 'anyone',\n",
       " 'everywhere',\n",
       " 'whereby',\n",
       " 'his',\n",
       " 'others',\n",
       " 'herself',\n",
       " 'thereafter',\n",
       " 'two',\n",
       " 'else',\n",
       " 'show',\n",
       " 'forty',\n",
       " 'more',\n",
       " 'together',\n",
       " 'it',\n",
       " 'own',\n",
       " '’d',\n",
       " 'least',\n",
       " 'first',\n",
       " 'get',\n",
       " 'a',\n",
       " 'everything',\n",
       " 'next',\n",
       " 'off',\n",
       " \"n't\",\n",
       " 'then',\n",
       " 'is',\n",
       " 'her',\n",
       " 'take',\n",
       " 'besides',\n",
       " 'up',\n",
       " 'what',\n",
       " 'n‘t',\n",
       " '’ve',\n",
       " 'still',\n",
       " 'most',\n",
       " 'wherever',\n",
       " 'whether',\n",
       " 'my',\n",
       " 'seemed',\n",
       " 'eight',\n",
       " 'done',\n",
       " 'those',\n",
       " 'see',\n",
       " 'back',\n",
       " 'against',\n",
       " '’re',\n",
       " \"'ll\",\n",
       " 'has',\n",
       " 'top',\n",
       " 'beside',\n",
       " 'nevertheless',\n",
       " 'ours',\n",
       " 'former',\n",
       " 'below',\n",
       " 'how',\n",
       " 'only',\n",
       " 'and',\n",
       " 'anyhow',\n",
       " 'an',\n",
       " 'hereafter',\n",
       " 'hereby',\n",
       " 're',\n",
       " 'either',\n",
       " 'than',\n",
       " \"'ve\",\n",
       " 'after',\n",
       " 'except',\n",
       " 'latter',\n",
       " 'whoever',\n",
       " 'empty',\n",
       " 'six',\n",
       " 'per',\n",
       " 'upon',\n",
       " 'used',\n",
       " 'thence',\n",
       " 'by',\n",
       " 'which',\n",
       " 'seems',\n",
       " 'along',\n",
       " 'fifty',\n",
       " 'we',\n",
       " 'quite',\n",
       " 'around',\n",
       " 'few',\n",
       " 'hence',\n",
       " 'both',\n",
       " 'whenever',\n",
       " 'toward',\n",
       " 'hers',\n",
       " 'was',\n",
       " '‘m',\n",
       " '‘s',\n",
       " 'whence',\n",
       " 'became',\n",
       " 'here',\n",
       " 'amongst',\n",
       " 'so',\n",
       " 'through',\n",
       " 'whither',\n",
       " 'between',\n",
       " 'using',\n",
       " 'ten',\n",
       " 'that',\n",
       " 'alone',\n",
       " 'amount',\n",
       " 'must',\n",
       " 'enough',\n",
       " 'could',\n",
       " 'these',\n",
       " 'nobody',\n",
       " 'me',\n",
       " 'thru',\n",
       " 'too',\n",
       " 'really',\n",
       " 'you',\n",
       " 'as',\n",
       " 'serious',\n",
       " 'why',\n",
       " 'with',\n",
       " 'via',\n",
       " 'i',\n",
       " 'across',\n",
       " 'this',\n",
       " 'further',\n",
       " 'have',\n",
       " 'anyway',\n",
       " 'towards',\n",
       " 'hereupon',\n",
       " 'behind',\n",
       " 'indeed',\n",
       " 'five',\n",
       " 'never',\n",
       " 'such',\n",
       " 'various',\n",
       " 'until',\n",
       " 'can',\n",
       " 'doing',\n",
       " 'did',\n",
       " 'being',\n",
       " 'give',\n",
       " 'side',\n",
       " 'eleven',\n",
       " 'onto',\n",
       " 'will',\n",
       " 'though',\n",
       " 'over',\n",
       " 'him']"
      ]
     },
     "execution_count": 5,
     "metadata": {},
     "output_type": "execute_result"
    }
   ],
   "source": [
    "stopwords = list(STOP_WORDS)\n",
    "stopwords"
   ]
  },
  {
   "cell_type": "code",
   "execution_count": 6,
   "id": "e5e5561d",
   "metadata": {},
   "outputs": [],
   "source": [
    "nlp = spacy.load('en_core_web_sm')"
   ]
  },
  {
   "cell_type": "code",
   "execution_count": 10,
   "id": "df4b8e74",
   "metadata": {},
   "outputs": [],
   "source": [
    "doc = nlp(text)"
   ]
  },
  {
   "cell_type": "code",
   "execution_count": 11,
   "id": "498a31c2",
   "metadata": {},
   "outputs": [
    {
     "name": "stdout",
     "output_type": "stream",
     "text": [
      "['Our', 'solicitor', 'Umar', 'was', 'fantastic', 'he', 'was', 'introduced', 'to', 'us', '10', 'weeks', 'into', 'the', 'process', 'after', 'quite', 'a', 'lot', 'of', 'delays', 'and', 'quickly', 'got', 'everything', 'resolved', '.', 'We', 'were', 'really', 'impressed', 'with', 'how', 'fast', 'and', 'responsive', 'he', 'was', 'and', 'I', \"'d\", 'highly', 'recommend', 'him', '.', 'Overall', 'I', 'think', 'Muve', 'is', 'a', 'good', 'option', 'with', 'some', 'very', 'competitive', 'pricing', 'but', 'unfortunately', 'we', 'did', 'experience', 'some', 'delays', 'at', 'the', 'beginning', 'of', 'the', 'process', 'which', 'I', 'think', 'it', 'has', 'to', 'do', 'with', 'the', 'amount', 'of', 'cases', 'they', 'had', 'due', 'to', 'the', 'stamp', 'duty', 'holiday', 'but', 'once', 'our', 'solicitor', 'was', 'assigned', 'things', 'moved', 'really', 'quickly', '.', 'That', \"'s\", 'the', 'only', 'reason', 'why', 'I', 'would', \"n't\", 'give', 'them', '5', 'starts', 'overall', 'and', 'I', \"'d\", 'highly', 'recommend', 'getting', 'a', 'solicitor', 'assigned', 'as', 'soon', 'as', 'you', 'start', 'the', 'process', '.', 'Would', 'not', 'have', 'made', 'the', 'stamp', 'duty', 'deadline', 'without', 'them', '!', '\\n\\n', 'I', 'was', 'selling', 'my', 'existing', 'property', 'and', 'purchasing', 'a', 'new', 'one', '.', 'It', 'was', 'all', 'smooth', 'sailing', 'until', 'the', 'last', 'few', 'weeks', 'where', 'issues', 'initiated', 'by', 'my', 'buyers', 'side', ',', 'started', 'to', 'pop', 'up', 'out', 'of', 'nowhere', '.', 'Umar', 'and', 'Ashleigh', ',', 'really', 'did', 'everything', 'they', 'could', 'to', 'help', 'me', 'navigate', 'these', 'obstacles', 'and', 'were', 'in', 'constant', 'contact', '.', 'Keeping', 'me', 'updated', 'and', 'keeping', 'the', 'application', 'on', 'track', '.', 'Completed', 'on', 'the', 'final', 'day', 'of', 'the', 'stamp', 'duty', 'holiday', 'and', 'saved', 'lots', 'of', '£', '£', '£', '.', 'It', 'was', 'stressful', 'at', 'the', 'end', ',', 'but', 'we', 'made', 'it', '.', '\\n\\n', 'Thank', 'you', 'both', 'so', 'much', '!']\n"
     ]
    }
   ],
   "source": [
    "#tokenization\n",
    "tokens = [token.text for token in doc]\n",
    "print(tokens)"
   ]
  },
  {
   "cell_type": "code",
   "execution_count": 12,
   "id": "3613f733",
   "metadata": {},
   "outputs": [
    {
     "data": {
      "text/plain": [
       "'!\"#$%&\\'()*+,-./:;<=>?@[\\\\]^_`{|}~\\n'"
      ]
     },
     "execution_count": 12,
     "metadata": {},
     "output_type": "execute_result"
    }
   ],
   "source": [
    "#remove stop words and punctuations -- part of text cleaning\n",
    "punctuation = punctuation + '\\n'\n",
    "punctuation"
   ]
  },
  {
   "cell_type": "code",
   "execution_count": 13,
   "id": "c5a11244",
   "metadata": {},
   "outputs": [],
   "source": [
    "word_frequencies = {}\n",
    "for word in doc:\n",
    "    if word.text.lower() not in stopwords:\n",
    "        if word.text.lower() not in punctuation:\n",
    "            if word.text not in word_frequencies.keys():\n",
    "                #if the word is introduced for the first time, then the occurance of the word will be 1\n",
    "                word_frequencies[word.text] = 1\n",
    "            else:\n",
    "                #if the word is already introduced, then the occurance of the word will be increased by 1\n",
    "                word_frequencies[word.text] += 1"
   ]
  },
  {
   "cell_type": "code",
   "execution_count": 14,
   "id": "00d2f1e8",
   "metadata": {},
   "outputs": [
    {
     "name": "stdout",
     "output_type": "stream",
     "text": [
      "{'solicitor': 3, 'Umar': 2, 'fantastic': 1, 'introduced': 1, '10': 1, 'weeks': 2, 'process': 3, 'lot': 1, 'delays': 2, 'quickly': 2, 'got': 1, 'resolved': 1, 'impressed': 1, 'fast': 1, 'responsive': 1, 'highly': 2, 'recommend': 2, 'Overall': 1, 'think': 2, 'Muve': 1, 'good': 1, 'option': 1, 'competitive': 1, 'pricing': 1, 'unfortunately': 1, 'experience': 1, 'beginning': 1, 'cases': 1, 'stamp': 3, 'duty': 3, 'holiday': 2, 'assigned': 2, 'things': 1, 'moved': 1, 'reason': 1, '5': 1, 'starts': 1, 'overall': 1, 'getting': 1, 'soon': 1, 'start': 1, 'deadline': 1, '\\n\\n': 2, 'selling': 1, 'existing': 1, 'property': 1, 'purchasing': 1, 'new': 1, 'smooth': 1, 'sailing': 1, 'issues': 1, 'initiated': 1, 'buyers': 1, 'started': 1, 'pop': 1, 'Ashleigh': 1, 'help': 1, 'navigate': 1, 'obstacles': 1, 'constant': 1, 'contact': 1, 'Keeping': 1, 'updated': 1, 'keeping': 1, 'application': 1, 'track': 1, 'Completed': 1, 'final': 1, 'day': 1, 'saved': 1, 'lots': 1, '£': 3, 'stressful': 1, 'end': 1, 'Thank': 1}\n"
     ]
    }
   ],
   "source": [
    "print(word_frequencies)"
   ]
  },
  {
   "cell_type": "code",
   "execution_count": 15,
   "id": "5cb3a88e",
   "metadata": {},
   "outputs": [],
   "source": [
    "max_frequency = max(word_frequencies.values())"
   ]
  },
  {
   "cell_type": "code",
   "execution_count": 16,
   "id": "41008622",
   "metadata": {},
   "outputs": [
    {
     "data": {
      "text/plain": [
       "3"
      ]
     },
     "execution_count": 16,
     "metadata": {},
     "output_type": "execute_result"
    }
   ],
   "source": [
    "max_frequency"
   ]
  },
  {
   "cell_type": "code",
   "execution_count": 17,
   "id": "ef7e70ed",
   "metadata": {},
   "outputs": [],
   "source": [
    "for word in word_frequencies.keys():\n",
    "    word_frequencies[word] = word_frequencies[word]/max_frequency"
   ]
  },
  {
   "cell_type": "code",
   "execution_count": 18,
   "id": "7f42eb93",
   "metadata": {},
   "outputs": [
    {
     "name": "stdout",
     "output_type": "stream",
     "text": [
      "{'solicitor': 1.0, 'Umar': 0.6666666666666666, 'fantastic': 0.3333333333333333, 'introduced': 0.3333333333333333, '10': 0.3333333333333333, 'weeks': 0.6666666666666666, 'process': 1.0, 'lot': 0.3333333333333333, 'delays': 0.6666666666666666, 'quickly': 0.6666666666666666, 'got': 0.3333333333333333, 'resolved': 0.3333333333333333, 'impressed': 0.3333333333333333, 'fast': 0.3333333333333333, 'responsive': 0.3333333333333333, 'highly': 0.6666666666666666, 'recommend': 0.6666666666666666, 'Overall': 0.3333333333333333, 'think': 0.6666666666666666, 'Muve': 0.3333333333333333, 'good': 0.3333333333333333, 'option': 0.3333333333333333, 'competitive': 0.3333333333333333, 'pricing': 0.3333333333333333, 'unfortunately': 0.3333333333333333, 'experience': 0.3333333333333333, 'beginning': 0.3333333333333333, 'cases': 0.3333333333333333, 'stamp': 1.0, 'duty': 1.0, 'holiday': 0.6666666666666666, 'assigned': 0.6666666666666666, 'things': 0.3333333333333333, 'moved': 0.3333333333333333, 'reason': 0.3333333333333333, '5': 0.3333333333333333, 'starts': 0.3333333333333333, 'overall': 0.3333333333333333, 'getting': 0.3333333333333333, 'soon': 0.3333333333333333, 'start': 0.3333333333333333, 'deadline': 0.3333333333333333, '\\n\\n': 0.6666666666666666, 'selling': 0.3333333333333333, 'existing': 0.3333333333333333, 'property': 0.3333333333333333, 'purchasing': 0.3333333333333333, 'new': 0.3333333333333333, 'smooth': 0.3333333333333333, 'sailing': 0.3333333333333333, 'issues': 0.3333333333333333, 'initiated': 0.3333333333333333, 'buyers': 0.3333333333333333, 'started': 0.3333333333333333, 'pop': 0.3333333333333333, 'Ashleigh': 0.3333333333333333, 'help': 0.3333333333333333, 'navigate': 0.3333333333333333, 'obstacles': 0.3333333333333333, 'constant': 0.3333333333333333, 'contact': 0.3333333333333333, 'Keeping': 0.3333333333333333, 'updated': 0.3333333333333333, 'keeping': 0.3333333333333333, 'application': 0.3333333333333333, 'track': 0.3333333333333333, 'Completed': 0.3333333333333333, 'final': 0.3333333333333333, 'day': 0.3333333333333333, 'saved': 0.3333333333333333, 'lots': 0.3333333333333333, '£': 1.0, 'stressful': 0.3333333333333333, 'end': 0.3333333333333333, 'Thank': 0.3333333333333333}\n"
     ]
    }
   ],
   "source": [
    "print(word_frequencies)"
   ]
  },
  {
   "cell_type": "code",
   "execution_count": 19,
   "id": "2ac57af4",
   "metadata": {},
   "outputs": [
    {
     "name": "stdout",
     "output_type": "stream",
     "text": [
      "[Our solicitor Umar was fantastic he was introduced to us 10 weeks into the process after quite a lot of delays and quickly got everything resolved., We were really impressed with how fast and responsive he was and I'd highly recommend him., Overall I think Muve is a good option with some very competitive pricing but unfortunately we did experience some delays at the beginning of the process which I think it has to do with the amount of cases they had due to the stamp duty holiday but once our solicitor was assigned things moved really quickly., That's the only reason why I wouldn't give them 5 starts overall, and I'd highly recommend getting a solicitor assigned as soon as you start the process., Would not have made the stamp duty deadline without them!, \n",
      "\n",
      "I was selling my existing property and purchasing a new one., It was all smooth sailing until the last few weeks where issues initiated by my buyers side, started to pop up out of nowhere., Umar and Ashleigh, really did everything they could to help me navigate these obstacles and were in constant contact., Keeping me updated and keeping the application on track., Completed on the final day of the stamp duty holiday and saved lots of £££., It was stressful at the end, but we made it., \n",
      "\n",
      "Thank you both so much!]\n"
     ]
    }
   ],
   "source": [
    "#Sentence tokenization\n",
    "sentence_tokens = [sent for sent in doc.sents]\n",
    "print(sentence_tokens)"
   ]
  },
  {
   "cell_type": "code",
   "execution_count": 20,
   "id": "fef15852",
   "metadata": {},
   "outputs": [],
   "source": [
    "sentence_scores = {}\n",
    "for sent in sentence_tokens:\n",
    "    for word in sent:\n",
    "        if word.text.lower() in word_frequencies.keys():\n",
    "            if sent not in sentence_scores.keys():\n",
    "                sentence_scores[sent] = word_frequencies[word.text.lower()]\n",
    "            else:\n",
    "                sentence_scores[sent] += word_frequencies[word.text.lower()]"
   ]
  },
  {
   "cell_type": "code",
   "execution_count": 21,
   "id": "3de7a318",
   "metadata": {},
   "outputs": [
    {
     "data": {
      "text/plain": [
       "{Our solicitor Umar was fantastic he was introduced to us 10 weeks into the process after quite a lot of delays and quickly got everything resolved.: 6.0,\n",
       " We were really impressed with how fast and responsive he was and I'd highly recommend him.: 2.333333333333333,\n",
       " Overall I think Muve is a good option with some very competitive pricing but unfortunately we did experience some delays at the beginning of the process which I think it has to do with the amount of cases they had due to the stamp duty holiday but once our solicitor was assigned things moved really quickly.: 11.666666666666666,\n",
       " That's the only reason why I wouldn't give them 5 starts overall: 1.3333333333333333,\n",
       " and I'd highly recommend getting a solicitor assigned as soon as you start the process.: 5.0,\n",
       " Would not have made the stamp duty deadline without them!: 2.3333333333333335,\n",
       " \n",
       " \n",
       " I was selling my existing property and purchasing a new one.: 2.333333333333333,\n",
       " It was all smooth sailing until the last few weeks where issues initiated by my buyers side, started to pop up out of nowhere.: 3.0,\n",
       " Umar and Ashleigh, really did everything they could to help me navigate these obstacles and were in constant contact.: 1.6666666666666665,\n",
       " Keeping me updated and keeping the application on track.: 1.6666666666666665,\n",
       " Completed on the final day of the stamp duty holiday and saved lots of £££.: 7.0,\n",
       " It was stressful at the end, but we made it.: 0.6666666666666666,\n",
       " \n",
       " \n",
       " Thank you both so much!: 0.6666666666666666}"
      ]
     },
     "execution_count": 21,
     "metadata": {},
     "output_type": "execute_result"
    }
   ],
   "source": [
    "sentence_scores"
   ]
  },
  {
   "cell_type": "code",
   "execution_count": 23,
   "id": "9ae33381",
   "metadata": {},
   "outputs": [],
   "source": [
    "from heapq import nlargest"
   ]
  },
  {
   "cell_type": "code",
   "execution_count": 27,
   "id": "c1703d81",
   "metadata": {},
   "outputs": [
    {
     "data": {
      "text/plain": [
       "3"
      ]
     },
     "execution_count": 27,
     "metadata": {},
     "output_type": "execute_result"
    }
   ],
   "source": [
    "#Get 30 percent of the sentence with the maximum score. \n",
    "#Result of it will be: the number of sentences that will be in the summary\n",
    "select_length = int(len(sentence_tokens)*0.3)\n",
    "select_length"
   ]
  },
  {
   "cell_type": "code",
   "execution_count": 29,
   "id": "f8223db0",
   "metadata": {},
   "outputs": [
    {
     "data": {
      "text/plain": [
       "[Overall I think Muve is a good option with some very competitive pricing but unfortunately we did experience some delays at the beginning of the process which I think it has to do with the amount of cases they had due to the stamp duty holiday but once our solicitor was assigned things moved really quickly.,\n",
       " Completed on the final day of the stamp duty holiday and saved lots of £££.,\n",
       " Our solicitor Umar was fantastic he was introduced to us 10 weeks into the process after quite a lot of delays and quickly got everything resolved.]"
      ]
     },
     "execution_count": 29,
     "metadata": {},
     "output_type": "execute_result"
    }
   ],
   "source": [
    "# To get the summary of the text\n",
    "summary = nlargest(select_length,sentence_scores,key=sentence_scores.get)\n",
    "summary"
   ]
  },
  {
   "cell_type": "code",
   "execution_count": 30,
   "id": "80c9f030",
   "metadata": {},
   "outputs": [
    {
     "data": {
      "text/plain": [
       "['Overall I think Muve is a good option with some very competitive pricing but unfortunately we did experience some delays at the beginning of the process which I think it has to do with the amount of cases they had due to the stamp duty holiday but once our solicitor was assigned things moved really quickly.',\n",
       " 'Completed on the final day of the stamp duty holiday and saved lots of £££.',\n",
       " 'Our solicitor Umar was fantastic he was introduced to us 10 weeks into the process after quite a lot of delays and quickly got everything resolved.']"
      ]
     },
     "execution_count": 30,
     "metadata": {},
     "output_type": "execute_result"
    }
   ],
   "source": [
    "final_summary = [word.text for word in summary]\n",
    "final_summary"
   ]
  },
  {
   "cell_type": "code",
   "execution_count": 31,
   "id": "13143131",
   "metadata": {},
   "outputs": [
    {
     "name": "stdout",
     "output_type": "stream",
     "text": [
      "Overall I think Muve is a good option with some very competitive pricing but unfortunately we did experience some delays at the beginning of the process which I think it has to do with the amount of cases they had due to the stamp duty holiday but once our solicitor was assigned things moved really quickly. Completed on the final day of the stamp duty holiday and saved lots of £££. Our solicitor Umar was fantastic he was introduced to us 10 weeks into the process after quite a lot of delays and quickly got everything resolved.\n"
     ]
    }
   ],
   "source": [
    "#To combine the finaly summary statements to one paragraph\n",
    "summary = ' '.join(final_summary)\n",
    "print(summary)"
   ]
  },
  {
   "cell_type": "code",
   "execution_count": 32,
   "id": "09e24640",
   "metadata": {},
   "outputs": [
    {
     "data": {
      "text/plain": [
       "1268"
      ]
     },
     "execution_count": 32,
     "metadata": {},
     "output_type": "execute_result"
    }
   ],
   "source": [
    "#Get length of original text\n",
    "len(text)"
   ]
  },
  {
   "cell_type": "code",
   "execution_count": 34,
   "id": "8224e0b5",
   "metadata": {},
   "outputs": [
    {
     "data": {
      "text/plain": [
       "532"
      ]
     },
     "execution_count": 34,
     "metadata": {},
     "output_type": "execute_result"
    }
   ],
   "source": [
    "#Get length of summary generated\n",
    "len(summary)"
   ]
  },
  {
   "cell_type": "code",
   "execution_count": null,
   "id": "bc4bbbab",
   "metadata": {},
   "outputs": [],
   "source": []
  }
 ],
 "metadata": {
  "kernelspec": {
   "display_name": "Python 3 (ipykernel)",
   "language": "python",
   "name": "python3"
  },
  "language_info": {
   "codemirror_mode": {
    "name": "ipython",
    "version": 3
   },
   "file_extension": ".py",
   "mimetype": "text/x-python",
   "name": "python",
   "nbconvert_exporter": "python",
   "pygments_lexer": "ipython3",
   "version": "3.7.11"
  }
 },
 "nbformat": 4,
 "nbformat_minor": 5
}
